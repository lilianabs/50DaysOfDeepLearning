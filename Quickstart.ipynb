{
  "nbformat": 4,
  "nbformat_minor": 0,
  "metadata": {
    "colab": {
      "name": "Quickstart.ipynb",
      "provenance": [],
      "authorship_tag": "ABX9TyOoWRgepQKsbQPzE+ZRFX4y",
      "include_colab_link": true
    },
    "kernelspec": {
      "name": "python3",
      "display_name": "Python 3"
    },
    "language_info": {
      "name": "python"
    },
    "accelerator": "GPU",
    "gpuClass": "standard"
  },
  "cells": [
    {
      "cell_type": "markdown",
      "metadata": {
        "id": "view-in-github",
        "colab_type": "text"
      },
      "source": [
        "<a href=\"https://colab.research.google.com/github/lilianabs/learn-tensorflow/blob/main/Quickstart.ipynb\" target=\"_parent\"><img src=\"https://colab.research.google.com/assets/colab-badge.svg\" alt=\"Open In Colab\"/></a>"
      ]
    },
    {
      "cell_type": "code",
      "execution_count": 1,
      "metadata": {
        "id": "lfTI-d3b337y"
      },
      "outputs": [],
      "source": [
        "import tensorflow as tf"
      ]
    },
    {
      "cell_type": "code",
      "source": [
        "# Load the data\n",
        "mnist = tf.keras.datasets.mnist\n",
        "(x_train, y_train), (x_test, y_test) = mnist.load_data()\n",
        "\n",
        "x_train, x_test = x_train / 255.0, x_test / 255.0"
      ],
      "metadata": {
        "id": "9E2QJ4YC4oa9"
      },
      "execution_count": 4,
      "outputs": []
    },
    {
      "cell_type": "code",
      "source": [
        "# Build a model\n",
        "\n",
        "model = tf.keras.models.Sequential([\n",
        "   tf.keras.layers.Flatten(input_shape=(28, 28)),\n",
        "   tf.keras.layers.Dense(128, activation='relu'),\n",
        "   tf.keras.layers.Dropout(0.2),\n",
        "   tf.keras.layers.Dense(10)                            \n",
        "])"
      ],
      "metadata": {
        "id": "_ifWmzXx4_ZC"
      },
      "execution_count": 5,
      "outputs": []
    },
    {
      "cell_type": "code",
      "source": [
        "predictions = model(x_train[:1]).numpy()\n",
        "predictions"
      ],
      "metadata": {
        "colab": {
          "base_uri": "https://localhost:8080/"
        },
        "id": "eJYDxIFT5CPO",
        "outputId": "dab3ceb7-197c-472c-ea68-fd8092bf4009"
      },
      "execution_count": 6,
      "outputs": [
        {
          "output_type": "execute_result",
          "data": {
            "text/plain": [
              "array([[ 1.0110352 ,  0.05250525,  0.73398215, -0.60775477, -0.7671656 ,\n",
              "        -0.51996857, -0.17065623,  0.33238178, -0.4194876 , -0.13145015]],\n",
              "      dtype=float32)"
            ]
          },
          "metadata": {},
          "execution_count": 6
        }
      ]
    },
    {
      "cell_type": "code",
      "source": [
        "# the tf.nn.softmax function converts these logits to probabilities for each class\n",
        "tf.nn.softmax(predictions).numpy()"
      ],
      "metadata": {
        "colab": {
          "base_uri": "https://localhost:8080/"
        },
        "id": "4PYWujjh5uJM",
        "outputId": "d2fde2cc-558b-4ca5-de35-51dcbd92fc6a"
      },
      "execution_count": 7,
      "outputs": [
        {
          "output_type": "execute_result",
          "data": {
            "text/plain": [
              "array([[0.24407287, 0.09359126, 0.18501072, 0.04836019, 0.04123412,\n",
              "        0.05279746, 0.07487166, 0.12381808, 0.05837829, 0.07786538]],\n",
              "      dtype=float32)"
            ]
          },
          "metadata": {},
          "execution_count": 7
        }
      ]
    },
    {
      "cell_type": "code",
      "source": [
        "loss_fn = tf.keras.losses.SparseCategoricalCrossentropy(from_logits=True)"
      ],
      "metadata": {
        "id": "SqGc10-C55AG"
      },
      "execution_count": 8,
      "outputs": []
    },
    {
      "cell_type": "code",
      "source": [
        "model.compile(optimizer='adam',\n",
        "              loss=loss_fn,\n",
        "              metrics=['accuracy'])"
      ],
      "metadata": {
        "id": "xafiuokX6H8j"
      },
      "execution_count": 9,
      "outputs": []
    },
    {
      "cell_type": "code",
      "source": [
        "model.fit(x_train, y_train, epochs=5)"
      ],
      "metadata": {
        "colab": {
          "base_uri": "https://localhost:8080/"
        },
        "id": "4wEY8dFs6SGy",
        "outputId": "f019be2e-2a49-4d7f-9ddb-50858e752072"
      },
      "execution_count": 10,
      "outputs": [
        {
          "output_type": "stream",
          "name": "stdout",
          "text": [
            "Epoch 1/5\n",
            "1875/1875 [==============================] - 6s 2ms/step - loss: 0.2915 - accuracy: 0.9162\n",
            "Epoch 2/5\n",
            "1875/1875 [==============================] - 4s 2ms/step - loss: 0.1414 - accuracy: 0.9578\n",
            "Epoch 3/5\n",
            "1875/1875 [==============================] - 4s 2ms/step - loss: 0.1055 - accuracy: 0.9683\n",
            "Epoch 4/5\n",
            "1875/1875 [==============================] - 4s 2ms/step - loss: 0.0857 - accuracy: 0.9737\n",
            "Epoch 5/5\n",
            "1875/1875 [==============================] - 4s 2ms/step - loss: 0.0754 - accuracy: 0.9765\n"
          ]
        },
        {
          "output_type": "execute_result",
          "data": {
            "text/plain": [
              "<keras.callbacks.History at 0x7f75c40fa390>"
            ]
          },
          "metadata": {},
          "execution_count": 10
        }
      ]
    },
    {
      "cell_type": "code",
      "source": [
        "model.evaluate(x_test, y_test, verbose=2)"
      ],
      "metadata": {
        "colab": {
          "base_uri": "https://localhost:8080/"
        },
        "id": "0Q9fj7hZ6WaH",
        "outputId": "253c59fe-b316-45fa-99f5-10b0a4487404"
      },
      "execution_count": 11,
      "outputs": [
        {
          "output_type": "stream",
          "name": "stdout",
          "text": [
            "313/313 - 1s - loss: 0.0718 - accuracy: 0.9782 - 1s/epoch - 3ms/step\n"
          ]
        },
        {
          "output_type": "execute_result",
          "data": {
            "text/plain": [
              "[0.0718393549323082, 0.9782000184059143]"
            ]
          },
          "metadata": {},
          "execution_count": 11
        }
      ]
    },
    {
      "cell_type": "code",
      "source": [
        "# If you want your model to return a probability, you can wrap the trained model, and attach the softmax to it:\n",
        "probability_model = tf.keras.Sequential([\n",
        "    model,\n",
        "    tf.keras.layers.Softmax()\n",
        "])"
      ],
      "metadata": {
        "id": "DWMKp3Fn6kSe"
      },
      "execution_count": 12,
      "outputs": []
    },
    {
      "cell_type": "code",
      "source": [
        "probability_model(x_test[:5])"
      ],
      "metadata": {
        "colab": {
          "base_uri": "https://localhost:8080/"
        },
        "id": "Cf7N_PnU62wK",
        "outputId": "2fbf0283-3f2d-4ef1-eeaf-88c444b4d1e8"
      },
      "execution_count": 13,
      "outputs": [
        {
          "output_type": "execute_result",
          "data": {
            "text/plain": [
              "<tf.Tensor: shape=(5, 10), dtype=float32, numpy=\n",
              "array([[1.8579631e-07, 2.0908115e-09, 3.8815229e-05, 2.5147726e-04,\n",
              "        1.8013353e-11, 1.5209774e-07, 3.0897005e-13, 9.9970859e-01,\n",
              "        5.4679759e-07, 3.2911757e-07],\n",
              "       [2.2345134e-08, 6.6283651e-06, 9.9999237e-01, 5.4482019e-08,\n",
              "        2.2648666e-16, 7.4092748e-07, 2.8528993e-08, 1.1556785e-15,\n",
              "        2.7503745e-07, 1.0378026e-15],\n",
              "       [2.0560262e-06, 9.9969554e-01, 1.1803074e-04, 5.7704160e-06,\n",
              "        2.6051230e-06, 5.1169100e-06, 4.9376737e-05, 5.7986970e-05,\n",
              "        6.3285421e-05, 2.1984300e-07],\n",
              "       [9.9816257e-01, 4.3286306e-08, 4.7812538e-04, 1.5252723e-06,\n",
              "        4.1912699e-06, 1.8903367e-05, 9.7377437e-05, 6.5808586e-06,\n",
              "        1.3339054e-06, 1.2293858e-03],\n",
              "       [1.5196691e-06, 1.2953996e-09, 1.6949100e-05, 1.8868249e-08,\n",
              "        9.9670804e-01, 1.6068937e-07, 3.4668003e-06, 1.1095670e-04,\n",
              "        1.3229997e-06, 3.1575591e-03]], dtype=float32)>"
            ]
          },
          "metadata": {},
          "execution_count": 13
        }
      ]
    },
    {
      "cell_type": "code",
      "source": [
        ""
      ],
      "metadata": {
        "id": "8385EgE066bK"
      },
      "execution_count": null,
      "outputs": []
    }
  ]
}